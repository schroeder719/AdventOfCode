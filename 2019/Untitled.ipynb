{
 "cells": [
  {
   "cell_type": "code",
   "execution_count": 28,
   "metadata": {},
   "outputs": [
    {
     "data": {
      "text/plain": [
       "3500"
      ]
     },
     "execution_count": 28,
     "metadata": {},
     "output_type": "execute_result"
    }
   ],
   "source": [
    "\n",
    "code_base = [1,0,0,3,1,1,2,3,1,3,4,3,1,5,0,3,2,10,1,19,1,5,19,23,1,23,5,27,2,27,10,31,1,5,31,35,2,35,6,39,1,6,39,43,2,13,43,47,2,9,47,51,1,6,51,55,1,55,9,59,2,6,59,63,1,5,63,67,2,67,13,71,1,9,71,75,1,75,9,79,2,79,10,83,1,6,83,87,1,5,87,91,1,6,91,95,1,95,13,99,1,10,99,103,2,6,103,107,1,107,5,111,1,111,13,115,1,115,13,119,1,13,119,123,2,123,13,127,1,127,6,131,1,131,9,135,1,5,135,139,2,139,6,143,2,6,143,147,1,5,147,151,1,151,2,155,1,9,155,0,99,2,14,0,0]\n",
    "\n",
    "\n",
    "def intcode(code):\n",
    "    p = 0\n",
    "    done = False\n",
    "    while not done:\n",
    "\n",
    "        if code[p] == 1:\n",
    "            d = code[p+3]\n",
    "            o1 = code[p+1]\n",
    "            o2 = code[p+2]\n",
    "\n",
    "            code[d] = code[o1] + code[o2]\n",
    "            p+=4\n",
    "        elif code[p] == 2:\n",
    "            d = code[p+3]\n",
    "            o1 = code[p+1]\n",
    "            o2 = code[p+2]\n",
    "\n",
    "            code[d] = code[o1] * code[o2]\n",
    "            p+=4\n",
    "        elif code[p] == 99:\n",
    "            done = True\n",
    "        else:\n",
    "            #print(\"error\")\n",
    "            return -1\n",
    "            done = True\n",
    "    #print(code)\n",
    "    return code[0]\n",
    "\n",
    "code_1 = [1,9,10,3,2,3,11,0,99,30,40,50];\n",
    "intcode(code_1)\n",
    "        "
   ]
  },
  {
   "cell_type": "code",
   "execution_count": 22,
   "metadata": {},
   "outputs": [
    {
     "data": {
      "text/plain": [
       "30"
      ]
     },
     "execution_count": 22,
     "metadata": {},
     "output_type": "execute_result"
    }
   ],
   "source": [
    "code_2 = [1,1,1,4,99,5,6,0,99]\n",
    "intcode(code_2)"
   ]
  },
  {
   "cell_type": "code",
   "execution_count": 23,
   "metadata": {},
   "outputs": [
    {
     "data": {
      "text/plain": [
       "9706670"
      ]
     },
     "execution_count": 23,
     "metadata": {},
     "output_type": "execute_result"
    }
   ],
   "source": [
    "code_fire = [1,12,2,3,1,1,2,3,1,3,4,3,1,5,0,3,2,10,1,19,1,5,19,23,1,23,5,27,2,27,10,31,1,5,31,35,2,35,6,39,1,6,39,43,2,13,43,47,2,9,47,51,1,6,51,55,1,55,9,59,2,6,59,63,1,5,63,67,2,67,13,71,1,9,71,75,1,75,9,79,2,79,10,83,1,6,83,87,1,5,87,91,1,6,91,95,1,95,13,99,1,10,99,103,2,6,103,107,1,107,5,111,1,111,13,115,1,115,13,119,1,13,119,123,2,123,13,127,1,127,6,131,1,131,9,135,1,5,135,139,2,139,6,143,2,6,143,147,1,5,147,151,1,151,2,155,1,9,155,0,99,2,14,0,0]\n",
    "intcode(code_fire)"
   ]
  },
  {
   "cell_type": "code",
   "execution_count": 33,
   "metadata": {},
   "outputs": [
    {
     "name": "stdout",
     "output_type": "stream",
     "text": [
      "25 52 19690720 2552\n"
     ]
    },
    {
     "data": {
      "text/plain": [
       "19690720"
      ]
     },
     "execution_count": 33,
     "metadata": {},
     "output_type": "execute_result"
    }
   ],
   "source": [
    "code_fire = [1,12,2,3,1,1,2,3,1,3,4,3,1,5,0,3,2,10,1,19,1,5,19,23,1,23,5,27,2,27,10,31,1,5,31,35,2,35,6,39,1,6,39,43,2,13,43,47,2,9,47,51,1,6,51,55,1,55,9,59,2,6,59,63,1,5,63,67,2,67,13,71,1,9,71,75,1,75,9,79,2,79,10,83,1,6,83,87,1,5,87,91,1,6,91,95,1,95,13,99,1,10,99,103,2,6,103,107,1,107,5,111,1,111,13,115,1,115,13,119,1,13,119,123,2,123,13,127,1,127,6,131,1,131,9,135,1,5,135,139,2,139,6,143,2,6,143,147,1,5,147,151,1,151,2,155,1,9,155,0,99,2,14,0,0]\n",
    "\n",
    "def find_val(target, sourcecode):\n",
    "    done = False\n",
    "    noun = 1\n",
    "    verb = 1\n",
    "    while not done:\n",
    "        code = sourcecode.copy()\n",
    "        code[1] = noun\n",
    "        code[2] = verb\n",
    "        result = intcode(code)\n",
    "        #if result > 0:\n",
    "        #    print(noun, verb, result)\n",
    "        if result == target:\n",
    "            print(noun, verb, result, 100*noun+verb)\n",
    "            return target\n",
    "        else:\n",
    "            if noun == 99 and verb == 99:\n",
    "                print(\"not found\")\n",
    "                return\n",
    "            elif noun == 99:\n",
    "                noun = 0\n",
    "                verb+=1\n",
    "            else:\n",
    "                noun+=1\n",
    "            if noun > 99 or verb >99:\n",
    "                done = True\n",
    "\n",
    "find_val(19690720, code_fire)    "
   ]
  },
  {
   "cell_type": "code",
   "execution_count": null,
   "metadata": {},
   "outputs": [],
   "source": []
  },
  {
   "cell_type": "code",
   "execution_count": null,
   "metadata": {},
   "outputs": [],
   "source": []
  }
 ],
 "metadata": {
  "kernelspec": {
   "display_name": "Python 3",
   "language": "python",
   "name": "python3"
  },
  "language_info": {
   "codemirror_mode": {
    "name": "ipython",
    "version": 3
   },
   "file_extension": ".py",
   "mimetype": "text/x-python",
   "name": "python",
   "nbconvert_exporter": "python",
   "pygments_lexer": "ipython3",
   "version": "3.7.4"
  }
 },
 "nbformat": 4,
 "nbformat_minor": 4
}
